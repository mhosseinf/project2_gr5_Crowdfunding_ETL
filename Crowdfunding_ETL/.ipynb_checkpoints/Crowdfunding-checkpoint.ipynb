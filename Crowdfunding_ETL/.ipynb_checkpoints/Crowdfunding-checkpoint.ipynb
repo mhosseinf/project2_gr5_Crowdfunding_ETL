{
 "cells": [
  {
   "cell_type": "markdown",
   "id": "258513f8-bb30-4670-8338-d95319c722bd",
   "metadata": {},
   "source": [
    "# Reflect Tables into SQLAlchemy ORM"
   ]
  },
  {
   "cell_type": "code",
   "execution_count": 37,
   "id": "f10a621d-3075-476c-8636-c223399550da",
   "metadata": {},
   "outputs": [],
   "source": [
    "import pandas as pd\n",
    "import sqlalchemy\n",
    "from sqlalchemy.ext.automap import automap_base\n",
    "from sqlalchemy.orm import Session\n",
    "from sqlalchemy import create_engine, inspect\n",
    "from sqlalchemy import Column, Integer, String, ForeignKey\n",
    "from sqlalchemy.orm import relationship\n",
    "from sqlalchemy.ext.declarative import declarative_base\n",
    "from sqlalchemy import Column, Integer, String, Float"
   ]
  },
  {
   "cell_type": "code",
   "execution_count": 38,
   "id": "68137b21-a9fa-4b24-8277-c98f4e94096f",
   "metadata": {},
   "outputs": [],
   "source": [
    "# # Load CSV files into Pandas DataFrames\n",
    "# campaign_df = pd.read_csv(\"output/campaign.csv\")\n",
    "# category_df = pd.read_csv(\"output/category.csv\")\n",
    "# subcategory_df = pd.read_csv(\"output/subcategory.csv\")\n",
    "# contacts_df = pd.read_csv(\"output/contacts1.csv\")"
   ]
  },
  {
   "cell_type": "code",
   "execution_count": 39,
   "id": "7591edb0-4a01-4460-9ab8-17b96cf005b1",
   "metadata": {},
   "outputs": [],
   "source": [
    "# # Export DataFrames to the SQLite database\n",
    "# campaign_df.to_sql(\"campaign\", engine, if_exists=\"replace\", index=False)\n",
    "# category_df.to_sql(\"category\", engine, if_exists=\"replace\", index=False)\n",
    "# subcategory_df.to_sql(\"subcategory\", engine, if_exists=\"replace\", index=False)\n",
    "# contacts_df.to_sql(\"contacts\", engine, if_exists=\"replace\", index=False)"
   ]
  },
  {
   "cell_type": "code",
   "execution_count": 40,
   "id": "b67e3f9f-db5e-4a63-b664-2840c839d79d",
   "metadata": {},
   "outputs": [
    {
     "name": "stderr",
     "output_type": "stream",
     "text": [
      "C:\\Users\\mh30f\\AppData\\Local\\Temp\\ipykernel_22816\\2596611627.py:1: MovedIn20Warning: The ``declarative_base()`` function is now available as sqlalchemy.orm.declarative_base(). (deprecated since: 2.0) (Background on SQLAlchemy 2.0 at: https://sqlalche.me/e/b8d9)\n",
      "  Base = declarative_base()\n"
     ]
    }
   ],
   "source": [
    "Base = declarative_base()\n",
    "\n",
    "class Campaign(Base):\n",
    "    __tablename__ = 'campaign'\n",
    "    cf_id = Column(Integer, primary_key=True)\n",
    "    contact_id = Column(Integer, ForeignKey('contacts.contact_id'), nullable=False)\n",
    "    company_name = Column(String(100))\n",
    "    description = Column(String(255))\n",
    "    goal = Column(Integer, nullable=False)\n",
    "    pledged = Column(Integer, nullable=False)\n",
    "    outcome = Column(String(20))\n",
    "    backers_count = Column(Integer, nullable=False)\n",
    "    country = Column(String(50))\n",
    "    currency = Column(String(10))\n",
    "    launched_date = Column(String(10))\n",
    "    end_date = Column(String(10))\n",
    "    category_id = Column(String(50), ForeignKey('category.category_id'), nullable=False)\n",
    "    subcategory_id = Column(String(50), ForeignKey('subcategory.subcategory_id'), nullable=False)\n",
    "\n",
    "class Category(Base):\n",
    "    __tablename__ = 'category'\n",
    "    category_id = Column(String(50), primary_key=True)\n",
    "    category = Column(String(50))\n",
    "\n",
    "class Subcategory(Base):\n",
    "    __tablename__ = 'subcategory'\n",
    "    subcategory_id = Column(String(50), primary_key=True)\n",
    "    subcategory = Column(String(50))\n",
    "\n",
    "class Contacts(Base):\n",
    "    __tablename__ = 'contacts'\n",
    "    contact_id = Column(Integer, primary_key=True)\n",
    "    first_name = Column(String(255))\n",
    "    last_name = Column(String(255))\n",
    "    email = Column(String(255))"
   ]
  },
  {
   "cell_type": "code",
   "execution_count": 41,
   "id": "af1dc13e-ca42-4801-b856-b4646dc49bed",
   "metadata": {},
   "outputs": [],
   "source": [
    "# Create an SQLite database engine\n",
    "engine = create_engine(\"sqlite:///output/crowdfunding.sqlite\")\n",
    "conn = engine.connect()"
   ]
  },
  {
   "cell_type": "code",
   "execution_count": 42,
   "id": "aef289f3-e7b1-4cb0-9fd8-67210cdb7ae9",
   "metadata": {},
   "outputs": [],
   "source": [
    "# Create a \"Metadata\" Layer That Abstracts our SQL Database\n",
    "# ----------------------------------\n",
    "# Create (if not already in existence) the tables associated with our classes.\n",
    "Base.metadata.create_all(engine)"
   ]
  },
  {
   "cell_type": "code",
   "execution_count": 43,
   "id": "0e338141-fec5-4ec3-80f3-86141647bdd7",
   "metadata": {},
   "outputs": [],
   "source": [
    "# Create a Session Object to Connect to DB\n",
    "# ----------------------------------\n",
    "# Session is a temporary binding to our DB\n",
    "from sqlalchemy.orm import Session\n",
    "session = Session(bind=engine)"
   ]
  },
  {
   "cell_type": "code",
   "execution_count": 44,
   "id": "249275a1-42c3-4956-a541-8270fe61103d",
   "metadata": {},
   "outputs": [],
   "source": [
    "# Create instances of your classes and add them to the session\n",
    "campaign_instance = Campaign(cf_id=1, contact_id=1, company_name=\"Company1\", description=\"Description1\", goal=1000, pledged=500, outcome=\"Success\", backers_count=10, country=\"Country1\", currency=\"USD\", launched_date=\"2023-01-01\", end_date=\"2023-01-31\", category_id=\"Category1\", subcategory_id=\"Subcategory1\")\n",
    "category_instance = Category(category_id=\"Category1\", category=\"Category Name 1\")\n",
    "subcategory_instance = Subcategory(subcategory_id=\"Subcategory1\", subcategory=\"Subcategory Name 1\")\n",
    "contacts_instance = Contacts(contact_id=1, first_name=\"John\", last_name=\"Doe\", email=\"john.doe@example.com\")"
   ]
  },
  {
   "cell_type": "code",
   "execution_count": 45,
   "id": "88310d7b-9b6b-4806-8123-b11286695f39",
   "metadata": {},
   "outputs": [],
   "source": [
    "# Add Records to the Appropriate DB\n",
    "# ----------------------------------\n",
    "# Use the SQL ALchemy methods to run simple \"INSERT\" statements using the classes and objects\n",
    "# Add the instances to the session\n",
    "session.add(campaign_instance)\n",
    "session.add(category_instance)\n",
    "session.add(subcategory_instance)\n",
    "session.add(contacts_instance)\n",
    "session.commit()"
   ]
  },
  {
   "cell_type": "code",
   "execution_count": 35,
   "id": "5548e3e3-e732-4838-99aa-af942dd91572",
   "metadata": {},
   "outputs": [],
   "source": [
    "# Use this to clear out the db\n",
    "# ----------------------------------\n",
    "Base.metadata.drop_all(engine)"
   ]
  },
  {
   "cell_type": "code",
   "execution_count": 46,
   "id": "fe82b207-e827-445c-83fb-fe7eb1b31321",
   "metadata": {},
   "outputs": [
    {
     "data": {
      "text/plain": [
       "['campaign', 'category', 'contacts', 'subcategory']"
      ]
     },
     "execution_count": 46,
     "metadata": {},
     "output_type": "execute_result"
    }
   ],
   "source": [
    "# Create the inspector and connect it to the engine\n",
    "inspector = inspect(engine)\n",
    "# Collect the names of tables within the database\n",
    "inspector.get_table_names()"
   ]
  },
  {
   "cell_type": "code",
   "execution_count": null,
   "id": "ccdded40-deb4-492f-81a4-3ce01c4f3f9e",
   "metadata": {},
   "outputs": [],
   "source": []
  }
 ],
 "metadata": {
  "kernelspec": {
   "display_name": "Python 3 (ipykernel)",
   "language": "python",
   "name": "python3"
  },
  "language_info": {
   "codemirror_mode": {
    "name": "ipython",
    "version": 3
   },
   "file_extension": ".py",
   "mimetype": "text/x-python",
   "name": "python",
   "nbconvert_exporter": "python",
   "pygments_lexer": "ipython3",
   "version": "3.11.3"
  }
 },
 "nbformat": 4,
 "nbformat_minor": 5
}
