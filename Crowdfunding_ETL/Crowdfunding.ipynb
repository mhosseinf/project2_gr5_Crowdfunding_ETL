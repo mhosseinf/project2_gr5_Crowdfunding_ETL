{
 "cells": [
  {
   "cell_type": "markdown",
   "id": "258513f8-bb30-4670-8338-d95319c722bd",
   "metadata": {},
   "source": [
    "# Reflect Tables into SQLAlchemy ORM"
   ]
  },
  {
   "cell_type": "code",
   "execution_count": 93,
   "id": "f10a621d-3075-476c-8636-c223399550da",
   "metadata": {},
   "outputs": [],
   "source": [
    "import pandas as pd\n",
    "import sqlalchemy\n",
    "from sqlalchemy.ext.automap import automap_base\n",
    "from sqlalchemy.orm import Session\n",
    "from sqlalchemy import create_engine, inspect\n",
    "from sqlalchemy import Column, Integer, String, ForeignKey\n",
    "from sqlalchemy.orm import relationship\n",
    "from sqlalchemy.ext.declarative import declarative_base\n",
    "from sqlalchemy import Column, Integer, String, Float"
   ]
  },
  {
   "cell_type": "code",
   "execution_count": 94,
   "id": "b67e3f9f-db5e-4a63-b664-2840c839d79d",
   "metadata": {},
   "outputs": [
    {
     "name": "stderr",
     "output_type": "stream",
     "text": [
      "C:\\Users\\mh30f\\AppData\\Local\\Temp\\ipykernel_22816\\2596611627.py:1: MovedIn20Warning: The ``declarative_base()`` function is now available as sqlalchemy.orm.declarative_base(). (deprecated since: 2.0) (Background on SQLAlchemy 2.0 at: https://sqlalche.me/e/b8d9)\n",
      "  Base = declarative_base()\n"
     ]
    }
   ],
   "source": [
    "Base = declarative_base()\n",
    "\n",
    "class Campaign(Base):\n",
    "    __tablename__ = 'campaign'\n",
    "    cf_id = Column(Integer, primary_key=True)\n",
    "    contact_id = Column(Integer, ForeignKey('contacts.contact_id'), nullable=False)\n",
    "    company_name = Column(String(100))\n",
    "    description = Column(String(255))\n",
    "    goal = Column(Integer, nullable=False)\n",
    "    pledged = Column(Integer, nullable=False)\n",
    "    outcome = Column(String(20))\n",
    "    backers_count = Column(Integer, nullable=False)\n",
    "    country = Column(String(50))\n",
    "    currency = Column(String(10))\n",
    "    launched_date = Column(String(10))\n",
    "    end_date = Column(String(10))\n",
    "    category_id = Column(String(50), ForeignKey('category.category_id'), nullable=False)\n",
    "    subcategory_id = Column(String(50), ForeignKey('subcategory.subcategory_id'), nullable=False)\n",
    "\n",
    "class Category(Base):\n",
    "    __tablename__ = 'category'\n",
    "    category_id = Column(String(50), primary_key=True)\n",
    "    category = Column(String(50))\n",
    "\n",
    "class Subcategory(Base):\n",
    "    __tablename__ = 'subcategory'\n",
    "    subcategory_id = Column(String(50), primary_key=True)\n",
    "    subcategory = Column(String(50))\n",
    "\n",
    "class Contacts(Base):\n",
    "    __tablename__ = 'contacts'\n",
    "    contact_id = Column(Integer, primary_key=True)\n",
    "    first_name = Column(String(255))\n",
    "    last_name = Column(String(255))\n",
    "    email = Column(String(255))"
   ]
  },
  {
   "cell_type": "code",
   "execution_count": 95,
   "id": "af1dc13e-ca42-4801-b856-b4646dc49bed",
   "metadata": {},
   "outputs": [],
   "source": [
    "# Create an SQLite database engine\n",
    "engine = create_engine(\"sqlite:///output/crowdfunding.sqlite\")\n",
    "conn = engine.connect()"
   ]
  },
  {
   "cell_type": "code",
   "execution_count": 96,
   "id": "aef289f3-e7b1-4cb0-9fd8-67210cdb7ae9",
   "metadata": {},
   "outputs": [],
   "source": [
    "# Create a \"Metadata\" Layer That Abstracts our SQL Database\n",
    "# ----------------------------------\n",
    "# Create (if not already in existence) the tables associated with our classes.\n",
    "Base.metadata.create_all(engine)"
   ]
  },
  {
   "cell_type": "code",
   "execution_count": 97,
   "id": "0e338141-fec5-4ec3-80f3-86141647bdd7",
   "metadata": {},
   "outputs": [],
   "source": [
    "# Create a Session Object to Connect to DB\n",
    "# ----------------------------------\n",
    "# Session is a temporary binding to our DB\n",
    "from sqlalchemy.orm import Session\n",
    "session = Session(bind=engine)"
   ]
  },
  {
   "cell_type": "code",
   "execution_count": 98,
   "id": "cdddef06-62e1-473f-bb0b-e47861b001ad",
   "metadata": {},
   "outputs": [],
   "source": [
    "# Load data from CSV files into DataFrames\n",
    "campaign_df = pd.read_csv(\"output/campaign.csv\")\n",
    "category_df = pd.read_csv(\"output/category.csv\")\n",
    "subcategory_df = pd.read_csv(\"output/subcategory.csv\")\n",
    "contacts_df = pd.read_csv(\"output/contacts1.csv\")"
   ]
  },
  {
   "cell_type": "code",
   "execution_count": 99,
   "id": "9ed822d0-fc7a-4aa3-80ce-07df340fb268",
   "metadata": {},
   "outputs": [],
   "source": [
    "# Iterate through campaign_df and create Campaign instances\n",
    "for index, row in campaign_df.iterrows():\n",
    "    campaign_instance = Campaign(\n",
    "        cf_id=row['cf_id'],\n",
    "        contact_id=row['contact_id'],\n",
    "        company_name=row['company_name'],\n",
    "        description=row['description'],\n",
    "        goal=row['goal'],\n",
    "        pledged=row['pledged'],\n",
    "        outcome=row['outcome'],\n",
    "        backers_count=row['backers_count'],\n",
    "        country=row['country'],\n",
    "        currency=row['currency'],\n",
    "        launched_date=row['launched_date'],\n",
    "        end_date=row['end_date'],\n",
    "        category_id=row['category_id'],\n",
    "        subcategory_id=row['subcategory_id']\n",
    "    )\n",
    "    session.add(campaign_instance)\n",
    "\n",
    "# Iterate through category_df and create Category instances\n",
    "for index, row in category_df.iterrows():\n",
    "    category_instance = Category(\n",
    "        category_id=row['category_id'],\n",
    "        category=row['category']\n",
    "    )\n",
    "    session.add(category_instance)\n",
    "\n",
    "# Iterate through subcategory_df and create Subcategory instances\n",
    "for index, row in subcategory_df.iterrows():\n",
    "    subcategory_instance = Subcategory(\n",
    "        subcategory_id=row['subcategory_id'],\n",
    "        subcategory=row['subcategory']\n",
    "    )\n",
    "    session.add(subcategory_instance)\n",
    "\n",
    "# Iterate through contacts_df and create Contacts instances\n",
    "for index, row in contacts_df.iterrows():\n",
    "    contacts_instance = Contacts(\n",
    "        contact_id=row['contact_id'],\n",
    "        first_name=row['first_name'],\n",
    "        last_name=row['last_name'],\n",
    "        email=row['email']\n",
    "    )\n",
    "    session.add(contacts_instance)"
   ]
  },
  {
   "cell_type": "code",
   "execution_count": 100,
   "id": "d09e1210-8371-4352-a1c6-20109386fdd3",
   "metadata": {},
   "outputs": [],
   "source": [
    "# Commit the changes to the database\n",
    "session.commit()"
   ]
  },
  {
   "cell_type": "code",
   "execution_count": 101,
   "id": "fe82b207-e827-445c-83fb-fe7eb1b31321",
   "metadata": {},
   "outputs": [
    {
     "data": {
      "text/plain": [
       "['campaign', 'category', 'contacts', 'subcategory']"
      ]
     },
     "execution_count": 101,
     "metadata": {},
     "output_type": "execute_result"
    }
   ],
   "source": [
    "# Create the inspector and connect it to the engine\n",
    "inspector = inspect(engine)\n",
    "# Collect the names of tables within the database\n",
    "inspector.get_table_names()"
   ]
  },
  {
   "cell_type": "code",
   "execution_count": null,
   "id": "ccdded40-deb4-492f-81a4-3ce01c4f3f9e",
   "metadata": {},
   "outputs": [],
   "source": []
  }
 ],
 "metadata": {
  "kernelspec": {
   "display_name": "Python 3 (ipykernel)",
   "language": "python",
   "name": "python3"
  },
  "language_info": {
   "codemirror_mode": {
    "name": "ipython",
    "version": 3
   },
   "file_extension": ".py",
   "mimetype": "text/x-python",
   "name": "python",
   "nbconvert_exporter": "python",
   "pygments_lexer": "ipython3",
   "version": "3.11.3"
  }
 },
 "nbformat": 4,
 "nbformat_minor": 5
}
