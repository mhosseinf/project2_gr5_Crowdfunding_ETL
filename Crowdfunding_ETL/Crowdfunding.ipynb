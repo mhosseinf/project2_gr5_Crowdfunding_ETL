{
 "cells": [
  {
   "cell_type": "markdown",
   "id": "258513f8-bb30-4670-8338-d95319c722bd",
   "metadata": {},
   "source": [
    "# Reflect Tables into SQLAlchemy ORM"
   ]
  },
  {
   "cell_type": "code",
   "execution_count": 8,
   "id": "f10a621d-3075-476c-8636-c223399550da",
   "metadata": {},
   "outputs": [],
   "source": [
    "import pandas as pd\n",
    "# Python SQL toolkit and Object Relational Mapper\n",
    "import sqlalchemy\n",
    "from sqlalchemy.ext.automap import automap_base\n",
    "from sqlalchemy.orm import Session\n",
    "from sqlalchemy import create_engine, func"
   ]
  },
  {
   "cell_type": "code",
   "execution_count": 9,
   "id": "68137b21-a9fa-4b24-8277-c98f4e94096f",
   "metadata": {},
   "outputs": [],
   "source": [
    "# Load CSV files into Pandas DataFrames\n",
    "campaign_df = pd.read_csv(\"output/campaign.csv\")\n",
    "category_df = pd.read_csv(\"output/category.csv\")\n",
    "subcategory_df = pd.read_csv(\"output/subcategory.csv\")\n",
    "contacts_df = pd.read_csv(\"output/contacts1.csv\")"
   ]
  },
  {
   "cell_type": "code",
   "execution_count": 10,
   "id": "5467c281-600d-45f0-877e-d3208998a4d7",
   "metadata": {},
   "outputs": [],
   "source": [
    "Create an SQLite database engine\n",
    "engine = create_engine(\"sqlite:///output/crowdfunding.sqlite\")"
   ]
  },
  {
   "cell_type": "code",
   "execution_count": null,
   "id": "b928d2d1-9188-4140-97c6-16045bb20a6b",
   "metadata": {},
   "outputs": [],
   "source": [
    "# # Create an SQLite database engine\n",
    "# engine = create_engine(\"sqlite:///crowdfunding_db.db\")"
   ]
  },
  {
   "cell_type": "code",
   "execution_count": 11,
   "id": "7591edb0-4a01-4460-9ab8-17b96cf005b1",
   "metadata": {},
   "outputs": [],
   "source": [
    "# Export DataFrames to the SQLite database\n",
    "campaign_df.to_sql(\"campaign\", engine, if_exists=\"replace\", index=False)\n",
    "category_df.to_sql(\"category\", engine, if_exists=\"replace\", index=False)\n",
    "subcategory_df.to_sql(\"subcategory\", engine, if_exists=\"replace\", index=False)\n",
    "contacts_df.to_sql(\"contacts\", engine, if_exists=\"replace\", index=False)"
   ]
  },
  {
   "cell_type": "code",
   "execution_count": 12,
   "id": "aef289f3-e7b1-4cb0-9fd8-67210cdb7ae9",
   "metadata": {},
   "outputs": [],
   "source": [
    "# # Create a new base using SQLAlchemy's automap\n",
    "# Base = automap_base()\n",
    "\n",
    "# # Reflect the tables\n",
    "# Base.prepare(autoload_with=engine)\n"
   ]
  },
  {
   "cell_type": "code",
   "execution_count": 13,
   "id": "0e338141-fec5-4ec3-80f3-86141647bdd7",
   "metadata": {},
   "outputs": [
    {
     "data": {
      "text/plain": [
       "[]"
      ]
     },
     "execution_count": 13,
     "metadata": {},
     "output_type": "execute_result"
    }
   ],
   "source": [
    "# # View all of the classes that automap found\n",
    "# Base.classes.keys()"
   ]
  }
 ],
 "metadata": {
  "kernelspec": {
   "display_name": "Python 3 (ipykernel)",
   "language": "python",
   "name": "python3"
  },
  "language_info": {
   "codemirror_mode": {
    "name": "ipython",
    "version": 3
   },
   "file_extension": ".py",
   "mimetype": "text/x-python",
   "name": "python",
   "nbconvert_exporter": "python",
   "pygments_lexer": "ipython3",
   "version": "3.11.3"
  }
 },
 "nbformat": 4,
 "nbformat_minor": 5
}
