{
 "cells": [
  {
   "cell_type": "code",
   "execution_count": 1,
   "id": "db599b21-d42f-46ad-a08b-cb1310568fe2",
   "metadata": {},
   "outputs": [],
   "source": [
    "%matplotlib inline\n",
    "from matplotlib import style\n",
    "style.use('fivethirtyeight')\n",
    "import matplotlib.pyplot as plt"
   ]
  },
  {
   "cell_type": "code",
   "execution_count": 2,
   "id": "c0ef7acd-6e9e-4156-b2e2-99246a1825bf",
   "metadata": {},
   "outputs": [],
   "source": [
    "import numpy as np\n",
    "import pandas as pd\n",
    "import datetime as dt"
   ]
  },
  {
   "cell_type": "markdown",
   "id": "258513f8-bb30-4670-8338-d95319c722bd",
   "metadata": {},
   "source": [
    "# Reflect Tables into SQLAlchemy ORM"
   ]
  },
  {
   "cell_type": "code",
   "execution_count": 3,
   "id": "f10a621d-3075-476c-8636-c223399550da",
   "metadata": {},
   "outputs": [],
   "source": [
    "# Python SQL toolkit and Object Relational Mapper\n",
    "import sqlalchemy\n",
    "from sqlalchemy.ext.automap import automap_base\n",
    "from sqlalchemy.orm import Session\n",
    "from sqlalchemy import create_engine, func"
   ]
  },
  {
   "cell_type": "code",
   "execution_count": 11,
   "id": "68137b21-a9fa-4b24-8277-c98f4e94096f",
   "metadata": {},
   "outputs": [],
   "source": [
    "# Load CSV files into Pandas DataFrames\n",
    "campaign_df = pd.read_csv(\"output/campaign.csv\")\n",
    "category_df = pd.read_csv(\"output/category.csv\")\n",
    "subcategory_df = pd.read_csv(\"output/subcategory.csv\")\n",
    "contacts_df = pd.read_csv(\"output/contacts1.csv\")"
   ]
  },
  {
   "cell_type": "code",
   "execution_count": 12,
   "id": "5467c281-600d-45f0-877e-d3208998a4d7",
   "metadata": {},
   "outputs": [],
   "source": [
    "# Create an SQLite database engine\n",
    "engine = create_engine(\"sqlite:///crowdfunding_db.sqlite\")"
   ]
  },
  {
   "cell_type": "code",
   "execution_count": 13,
   "id": "7591edb0-4a01-4460-9ab8-17b96cf005b1",
   "metadata": {},
   "outputs": [
    {
     "data": {
      "text/plain": [
       "1000"
      ]
     },
     "execution_count": 13,
     "metadata": {},
     "output_type": "execute_result"
    }
   ],
   "source": [
    "# Export DataFrames to the SQLite database\n",
    "campaign_df.to_sql(\"campaigns\", engine, if_exists=\"replace\", index=False)\n",
    "category_df.to_sql(\"categories\", engine, if_exists=\"replace\", index=False)\n",
    "subcategory_df.to_sql(\"subcategories\", engine, if_exists=\"replace\", index=False)\n",
    "contacts_df.to_sql(\"contacts\", engine, if_exists=\"replace\", index=False)"
   ]
  },
  {
   "cell_type": "code",
   "execution_count": 14,
   "id": "aef289f3-e7b1-4cb0-9fd8-67210cdb7ae9",
   "metadata": {},
   "outputs": [],
   "source": [
    "# reflect an existing database into a new model\n",
    "Base = automap_base()\n",
    "# reflect the tables\n",
    "Base.prepare(autoload_with=engine)"
   ]
  },
  {
   "cell_type": "code",
   "execution_count": 15,
   "id": "5b83d497-1394-49df-911c-e97d731617fc",
   "metadata": {},
   "outputs": [
    {
     "data": {
      "text/plain": [
       "[]"
      ]
     },
     "execution_count": 15,
     "metadata": {},
     "output_type": "execute_result"
    }
   ],
   "source": [
    "# View all of the classes that automap found\n",
    "classes = Base.classes.keys()\n",
    "classes"
   ]
  },
  {
   "cell_type": "code",
   "execution_count": 9,
   "id": "73fe606a-7dca-429e-883c-ede2ea27e96e",
   "metadata": {},
   "outputs": [],
   "source": [
    "# Print the class names\n",
    "for class_name in classes:\n",
    "    print(class_name)"
   ]
  },
  {
   "cell_type": "code",
   "execution_count": null,
   "id": "553e71f6-24e4-4768-be29-cef5060578d3",
   "metadata": {},
   "outputs": [],
   "source": []
  }
 ],
 "metadata": {
  "kernelspec": {
   "display_name": "Python 3 (ipykernel)",
   "language": "python",
   "name": "python3"
  },
  "language_info": {
   "codemirror_mode": {
    "name": "ipython",
    "version": 3
   },
   "file_extension": ".py",
   "mimetype": "text/x-python",
   "name": "python",
   "nbconvert_exporter": "python",
   "pygments_lexer": "ipython3",
   "version": "3.11.3"
  }
 },
 "nbformat": 4,
 "nbformat_minor": 5
}
